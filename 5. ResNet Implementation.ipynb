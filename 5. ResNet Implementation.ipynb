{
 "cells": [
  {
   "cell_type": "markdown",
   "metadata": {},
   "source": [
    "# Residual Network Implementation"
   ]
  },
  {
   "cell_type": "code",
   "execution_count": 1,
   "metadata": {},
   "outputs": [],
   "source": [
    "import tensorflow as tf\n",
    "import numpy as np"
   ]
  },
  {
   "cell_type": "code",
   "execution_count": 2,
   "metadata": {},
   "outputs": [],
   "source": [
    "#1. hyperparameter\n",
    "Epochs = 10"
   ]
  },
  {
   "cell_type": "code",
   "execution_count": 3,
   "metadata": {},
   "outputs": [],
   "source": [
    "#2. build model #Residual Network\n",
    "\n",
    "#Residual unit : Residual Network를 구성하는 가장 작은 단위로, Gradient highway가 발생하는 Pre-Activation 부분입니다. \n",
    "#Pre-activation Residual Unit : Batch normalization-ReLu-Conv layer구조\n",
    "class ResUnit(tf.keras.Model):\n",
    "    def __init__(self, filter_in, filter_out, kernel_size):\n",
    "        super(ResUnit, self).__init__()\n",
    "        self.batchnormalization1 = tf.keras.layers.BatchNormalization()\n",
    "        #relu => 변수가 없는 layer이기 때문에 initialize 안해줘도 되어서 그냥 call에서 바로 쓴다. \n",
    "        self.conv1 = tf.keras.layers.Conv2D(filter_out, kernel_size, padding='SAME')\n",
    "        \n",
    "        self.batchnormalization2 = tf.keras.layers.BatchNormalization()\n",
    "        #relu\n",
    "        self.conv2 = tf.keras.layers.Conv2D(filter_out, kernel_size, padding='SAME')\n",
    "        \n",
    "        #identity: dimension(channel의 개수가 같아야한다.)\n",
    "        if filter_in == filter_out: #개수가 같으면 그대로 사용하지만  \n",
    "            self.identity = lambda x: x\n",
    "        else: #같지 않으면 1x1 conv를 사용하여 크기를 맞춰줍니다. \n",
    "            self.identity = tf.keras.layers.Conv2D(filter_out, (1, 1), padding = 'SAME')\n",
    "    \n",
    "    def call(self, x, training = False, mask = None):\n",
    "        h = self.batchnormalization1(x, training = training)\n",
    "        h = tf.nn.relu(h)\n",
    "        h = self.conv1(h)\n",
    "        \n",
    "        h = self.batchnormalization2(h, training = training)\n",
    "        h = tf.nn.relu(h)\n",
    "        h = self.conv2(h)\n",
    "        \n",
    "        #call해서 Pre-activation인 ResUnit을 통과했으면 이 결과를 input이랑 다시 더 해 주어야 한다(이를 identity함수로 만들었다. ). 따라서\n",
    "        #input과 결과를 크기 맞춰주기 위해\n",
    "        return self.identity(x) + h\n"
   ]
  },
  {
   "cell_type": "code",
   "execution_count": 4,
   "metadata": {},
   "outputs": [],
   "source": [
    "#Residual layer: Residual Unit을 여러개 연결 한 것\n",
    "\n",
    "class ResLayer(tf.keras.Model):\n",
    "    def __init__(self, filter_in, filters, kernel_size):\n",
    "        super(ResLayer, self).__init__()\n",
    "        self.sequence = list()\n",
    "        \n",
    "        #filter_in[16] + filters[32, 32, 32] = zip([16, 32, 32, 32], [32, 32, 32])\n",
    "        for f_in, f_out in zip([filter_in]+list(filters), filters):\n",
    "            self.sequence.append(ResUnit(f_in, f_out, kernel_size))\n",
    "        \n",
    "    def call(self, x, training = False, mask = None):\n",
    "        for unit in self.sequence:\n",
    "            x = unit(x, training = training)\n",
    "        return x"
   ]
  },
  {
   "cell_type": "code",
   "execution_count": 5,
   "metadata": {},
   "outputs": [],
   "source": [
    "#ResNet 모델 정의\n",
    "class ResNet(tf.keras.Model):\n",
    "    def __init__(self):\n",
    "        super(ResNet, self).__init__()\n",
    "        self.conv1 = tf.keras.layers.Conv2D(8, (3, 3), padding = 'same', activation = 'relu')#28x28 #처음엔 영상하나ㅏ 뽑고 시작\n",
    "        \n",
    "        self.res1 = ResLayer(8, (16, 16), (3, 3)) #28x28s16\n",
    "        self.pool1 = tf.keras.layers.MaxPool2D((2, 2)) #14x14x16\n",
    "        \n",
    "        self.res2 = ResLayer(16, (32, 32), (3, 3)) #14x14x32\n",
    "        self.pool2 = tf.keras.layers.MaxPool2D((2, 2))#7x7x32\n",
    "        \n",
    "        self.res3 = ResLayer(32, (64, 64), (3, 3)) #7x7x64\n",
    "        self.flatten = tf.keras.layers.Flatten() #7x7x64 = 3136\n",
    "        self.dense1 = tf.keras.layers.Dense(128, activation='relu') #3136 -> 128\n",
    "        self.dense2 = tf.keras.layers.Dense(10, activation = 'softmax') #128 -> 10(class_num)\n",
    "    \n",
    "    def call(self, x, training = False, mask = None): #call에서 모든 layer 연결\n",
    "        x = self.conv1(x)\n",
    "        \n",
    "        x = self.res1(x, training=training)\n",
    "        x = self.pool1(x) \n",
    "                  \n",
    "        x = self.res2(x, training=training)\n",
    "        x = self.pool2(x) \n",
    "                  \n",
    "        x = self.res3(x, training=training)\n",
    "        x = self.flatten(x)\n",
    "        x = self.dense1(x)\n",
    "        output = self.dense2(x)\n",
    "        return output        \n",
    "        "
   ]
  },
  {
   "cell_type": "code",
   "execution_count": 6,
   "metadata": {},
   "outputs": [],
   "source": [
    "#3. Implement training loop\n",
    "\n",
    "@tf.function\n",
    "def train_step(model, images, labels, loss_object, optimizer, train_loss, train_accuracy):\n",
    "    with tf.GradientTape() as tape:\n",
    "        predictions = model(images)\n",
    "        loss = loss_object(labels, predictions)\n",
    "    gradients = tape.gradient(loss, model.trainable_variables)\n",
    "    \n",
    "    optimizer.apply_gradients(zip(gradients, model.trainable_variables))\n",
    "    train_loss(loss)\n",
    "    train_accuracy(labels, predictions)"
   ]
  },
  {
   "cell_type": "code",
   "execution_count": 7,
   "metadata": {},
   "outputs": [],
   "source": [
    "#4. Implement testing loop\n",
    "@tf.function\n",
    "def test_step(model, images, labels, loss_object, test_loss, test_accuracy):\n",
    "    predictions = model(images)\n",
    "    \n",
    "    t_loss = loss_object(labels, predictions)\n",
    "    test_loss(t_loss)\n",
    "    test_accuracy(labels, predictions)"
   ]
  },
  {
   "cell_type": "code",
   "execution_count": 8,
   "metadata": {},
   "outputs": [],
   "source": [
    "#5. Prepare Dataset : keras에서 제공하는 mnist dataset 사용\n",
    "\n",
    "#call Data\n",
    "mnist = tf.keras.datasets.mnist #이렇게 keras에서 mnist데이터를 가져옵니다. \n",
    "(X_train, y_train), (X_test, y_test) = mnist.load_data() #이 데이터의 구성이 train/test로 나뉘어져 있다. \n",
    "\n",
    "#Normalization\n",
    "X_train, x_test = X_train/255.0, X_test/255.0 #0~255로 표현이 되어 있으니 0~1로 바꿔줄 수 있다. \n",
    "\n",
    "#(num_sample, height, weight)-> (num_sample, height, weight, channel in)추가\n",
    "X_train = X_train[..., tf.newaxis].astype(np.float32)#casting도 잊지말고 해줍니다. \n",
    "X_test = X_test[..., tf.newaxis].astype(np.float32)\n",
    "\n",
    "#dataset 만둘어주기\n",
    "train_ds = tf.data.Dataset.from_tensor_slices((X_train, y_train)).shuffle(10000).batch(32) #tf.data.Dataset.from_tensor_slices() 이 함수를 이용하면 numpy나 tensor로부터 dataset을 구축할 수 있습니다. \n",
    "test_ds = tf.data.Dataset.from_tensor_slices((X_test, y_test)).batch(32)#test는 shuffle이 필요없습니다. \n"
   ]
  },
  {
   "cell_type": "code",
   "execution_count": 9,
   "metadata": {},
   "outputs": [],
   "source": [
    "#6. Define the training environment\n",
    "\n",
    "#create model\n",
    "model = ResNet()\n",
    "\n",
    "#Define loss and optimizer\n",
    "loss_object = tf.keras.losses.SparseCategoricalCrossentropy()\n",
    "optimizer = tf.keras.optimizers.Adam()\n",
    "\n",
    "#Define performance metrics\n",
    "train_loss = tf.keras.metrics.Mean(name = 'train_loss')\n",
    "train_accuracy = tf.keras.metrics.SparseCategoricalAccuracy(name = 'train_accuracy')\n",
    "\n",
    "test_loss = tf.keras.metrics.Mean(name = 'test_loss')\n",
    "test_accuracy = tf.keras.metrics.SparseCategoricalAccuracy(name = 'test_accuracy')"
   ]
  },
  {
   "cell_type": "code",
   "execution_count": 10,
   "metadata": {},
   "outputs": [
    {
     "name": "stdout",
     "output_type": "stream",
     "text": [
      "Epoch 1, loss: 0.1103610247373581, Accuracy: 96.56166076660156, Test Loss: 4.02578067779541, Test Accuracy: 98.73999786376953\n",
      "Epoch 2, loss: 0.07808578014373779, Accuracy: 97.56416320800781, Test Loss: 4.287351608276367, Test Accuracy: 98.86500549316406\n",
      "Epoch 3, loss: 0.06364230811595917, Accuracy: 98.02777862548828, Test Loss: 4.632501602172852, Test Accuracy: 98.86333465576172\n",
      "Epoch 4, loss: 0.05491233617067337, Accuracy: 98.29750061035156, Test Loss: 5.520465850830078, Test Accuracy: 98.79750061035156\n",
      "Epoch 5, loss: 0.048532795161008835, Accuracy: 98.49766540527344, Test Loss: 6.2708024978637695, Test Accuracy: 98.802001953125\n",
      "Epoch 6, loss: 0.04405029118061066, Accuracy: 98.6369400024414, Test Loss: 6.352503299713135, Test Accuracy: 98.80500030517578\n",
      "Epoch 7, loss: 0.040740326046943665, Accuracy: 98.73475646972656, Test Loss: 6.281417369842529, Test Accuracy: 98.85428619384766\n",
      "Epoch 8, loss: 0.03764975443482399, Accuracy: 98.82521057128906, Test Loss: 6.469360828399658, Test Accuracy: 98.87999725341797\n",
      "Epoch 9, loss: 0.03515608608722687, Accuracy: 98.90555572509766, Test Loss: 6.4429497718811035, Test Accuracy: 98.91666412353516\n",
      "Epoch 10, loss: 0.03330272063612938, Accuracy: 98.96516418457031, Test Loss: 6.908664226531982, Test Accuracy: 98.91999816894531\n"
     ]
    }
   ],
   "source": [
    "# 7. Training\n",
    "\n",
    "for epoch in range(Epochs):\n",
    "    for images, labels in train_ds:\n",
    "        train_step(model, images, labels, loss_object, optimizer, train_loss, train_accuracy)\n",
    "        \n",
    "    for test_images, test_labels in test_ds:\n",
    "        test_step(model, test_images, test_labels, loss_object, test_loss, test_accuracy)\n",
    "        \n",
    "    template = 'Epoch {}, loss: {}, Accuracy: {}, Test Loss: {}, Test Accuracy: {}'\n",
    "    print(template.format(epoch+1, \n",
    "                         train_loss.result(), #result() — 누적된 측정 결과를 얻습니다.\n",
    "                         train_accuracy.result()*100, \n",
    "                         test_loss.result(), \n",
    "                         test_accuracy.result()*100))"
   ]
  },
  {
   "cell_type": "code",
   "execution_count": 11,
   "metadata": {},
   "outputs": [
    {
     "data": {
      "text/html": [
       "<style>.container {width:90% !important;}</style>"
      ],
      "text/plain": [
       "<IPython.core.display.HTML object>"
      ]
     },
     "metadata": {},
     "output_type": "display_data"
    }
   ],
   "source": [
    "from IPython.core.display import display, HTML\n",
    "display(HTML(\"<style>.container {width:90% !important;}</style>\"))"
   ]
  },
  {
   "cell_type": "code",
   "execution_count": null,
   "metadata": {},
   "outputs": [],
   "source": []
  }
 ],
 "metadata": {
  "kernelspec": {
   "display_name": "Python 3",
   "language": "python",
   "name": "python3"
  },
  "language_info": {
   "codemirror_mode": {
    "name": "ipython",
    "version": 3
   },
   "file_extension": ".py",
   "mimetype": "text/x-python",
   "name": "python",
   "nbconvert_exporter": "python",
   "pygments_lexer": "ipython3",
   "version": "3.7.6"
  }
 },
 "nbformat": 4,
 "nbformat_minor": 2
}
