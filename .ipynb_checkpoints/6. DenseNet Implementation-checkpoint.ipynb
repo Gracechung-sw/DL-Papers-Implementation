{
 "cells": [
  {
   "cell_type": "markdown",
   "metadata": {},
   "source": [
    "# DenseNet Implementation"
   ]
  },
  {
   "cell_type": "code",
   "execution_count": 1,
   "metadata": {},
   "outputs": [],
   "source": [
    "import tensorflow as tf\n",
    "import numpy as np"
   ]
  },
  {
   "cell_type": "code",
   "execution_count": 2,
   "metadata": {},
   "outputs": [],
   "source": [
    "#1. hyperparameter\n",
    "Epochs = 10"
   ]
  },
  {
   "cell_type": "code",
   "execution_count": 3,
   "metadata": {},
   "outputs": [],
   "source": [
    "#2. build model #DenseNet\n",
    "\n",
    "#Dense unit  \n",
    "#Pre-activation : Batch normalization-ReLu-Conv layer구조 + Concatenate\n",
    "class DenseUnit(tf.keras.Model):\n",
    "    def __init__(self, filter_out, kernel_size):\n",
    "        super(DenseUnit, self).__init__()\n",
    "        self.bn = tf.keras.layers.BatchNormalization()\n",
    "        self.conv = tf.keras.layers.Conv2D(filter_out, kernel_size, padding = 'same')\n",
    "        self.concat = tf.keras.layers.Concatenate()\n",
    "        \n",
    "    def call(self, x, training= False, mask = None): # x(input): {Batch, H, W, Ch_in}\n",
    "        #Pre-activation : Batch normalization-ReLu-Conv layer구조\n",
    "        h = self.bn(x, training = training)\n",
    "        h = tf.nn.relu(h)\n",
    "        h = self.conv(h) # h(output): {Batch, H, W, filter_out}\n",
    "        return self.concat([x, h]) #x: 들어왔던 것과, h: 출력 을 서로 concatenate해 주는 것)\n",
    "                                   #result: {Batch_norm, H, W, (Ch-in + filtr_output)} "
   ]
  },
  {
   "cell_type": "code",
   "execution_count": 4,
   "metadata": {},
   "outputs": [],
   "source": [
    "#Dense layer: Dense Unit을 여러개 연결 한 것\n",
    "\n",
    "class DenseLayer(tf.keras.Model):\n",
    "    def __init__(self, num_unit, growth_rate, kernel_size):\n",
    "        super(DenseLayer, self).__init__()\n",
    "        self.sequence = list()\n",
    "        for idx in range(num_unit):\n",
    "            self.sequence.append(DenseUnit(growth_rate, kernel_size))\n",
    "            \n",
    "    def call(self, x, training = False, mask = None):\n",
    "        for unit in self.sequence:\n",
    "            x = unit(x, training = training)\n",
    "        return x\n",
    "        "
   ]
  },
  {
   "cell_type": "code",
   "execution_count": 5,
   "metadata": {},
   "outputs": [],
   "source": [
    "#Transition Layer : MaxPooling시 필요\n",
    "\n",
    "class TransitionLayer(tf.keras.Model):\n",
    "    def __init__(self, filter_out, kernel_size):\n",
    "        super(TransitionLayer, self).__init__()\n",
    "        self.conv = tf.keras.layers.Conv2D(filter_out, kernel_size, padding = 'same')\n",
    "        self.pool = tf.keras.layers.MaxPool2D()\n",
    "        \n",
    "    def call(self, x, training = False, mask = None):\n",
    "        x = self.conv(x)\n",
    "        return self.pool(x)"
   ]
  },
  {
   "cell_type": "code",
   "execution_count": 6,
   "metadata": {},
   "outputs": [],
   "source": [
    "#모델 정의 \n",
    "\n",
    "class DenseNet(tf.keras.Model):\n",
    "    def __init__(self):\n",
    "        super(DenseNet, self).__init__()\n",
    "        self.conv1 = tf.keras.layers.Conv2D(8, (3, 3), padding = 'same', activation = 'relu') #28x28x8\n",
    "        \n",
    "        self.denselayer1 = DenseLayer(2, 4, (3, 3)) # 28x28x(8+4x2)=28x28x16 #DenseLayer(tf.keras.Model): def __init__(self, num_unit, growth_rate, kernel_size):\n",
    "        self.tranlayer1 = TransitionLayer(16, (3, 3)) #14x14x16 #TransitionLayer(tf.keras.Model): def __init__(self, filter_out, kernel_size):\n",
    "        \n",
    "        self.denselayer2 = DenseLayer(2, 8, (3, 3)) # 14x14x(8+4x2+8x2)=14x14x32 #DenseLayer(tf.keras.Model): def __init__(self, num_unit, growth_rate, kernel_size):\n",
    "        self.tranlayer2 = TransitionLayer(16, (3, 3)) #7x7x32 #TransitionLayer(tf.keras.Model): def __init__(self, filter_out, kernel_size):\n",
    "        \n",
    "        self.denselayer3 = DenseLayer(2, 16, (3, 3)) # 7x7x(8+4x2+8x2+16x2)=7x7x64 #DenseLayer(tf.keras.Model): def __init__(self, num_unit, growth_rate, kernel_size):\n",
    "        \n",
    "        self.flatten = tf.keras.layers.Flatten()\n",
    "        self.dense1 = tf.keras.layers.Dense(128, activation = 'relu')\n",
    "        self.dense2 = tf.keras.layers.Dense(10, activation = 'softmax')\n",
    "        \n",
    "    def call(self, x, training=False, mask=None):\n",
    "        x = self.conv1(x)\n",
    "        \n",
    "        x = self.denselayer1(x, training = training)\n",
    "        x = self.tranlayer1(x)\n",
    "        \n",
    "        x = self.denselayer2(x, training = training)\n",
    "        x = self.tranlayer2(x)\n",
    "        \n",
    "        x = self.denselayer3(x, training = training)\n",
    "        \n",
    "        x = self.flatten(x)\n",
    "        x = self.dense1(x)\n",
    "        output = self.dense2(x)\n",
    "        \n",
    "        return output"
   ]
  },
  {
   "cell_type": "code",
   "execution_count": 7,
   "metadata": {},
   "outputs": [],
   "source": [
    "#3. Implement training loop\n",
    "\n",
    "@tf.function\n",
    "def train_step(model, images, labels, loss_object, optimizer, train_loss, train_accuracy):\n",
    "    with tf.GradientTape() as tape:\n",
    "        predictions = model(images, training = True)\n",
    "        loss = loss_object(labels, predictions)\n",
    "    gradients = tape.gradient(loss, model.trainable_variables)\n",
    "    \n",
    "    optimizer.apply_gradients(zip(gradients, model.trainable_variables))\n",
    "    train_loss(loss)\n",
    "    train_accuracy(labels, predictions)"
   ]
  },
  {
   "cell_type": "code",
   "execution_count": 8,
   "metadata": {},
   "outputs": [],
   "source": [
    "#4. Implement testing loop\n",
    "@tf.function\n",
    "def test_step(model, images, labels, loss_object, test_loss, test_accuracy):\n",
    "    predictions = model(images, training = True)\n",
    "    \n",
    "    t_loss = loss_object(labels, predictions)\n",
    "    test_loss(t_loss)\n",
    "    test_accuracy(labels, predictions)"
   ]
  },
  {
   "cell_type": "code",
   "execution_count": 9,
   "metadata": {},
   "outputs": [],
   "source": [
    "#5. Prepare Dataset : keras에서 제공하는 mnist dataset 사용\n",
    "\n",
    "#call Data\n",
    "mnist = tf.keras.datasets.mnist #이렇게 keras에서 mnist데이터를 가져옵니다. \n",
    "(X_train, y_train), (X_test, y_test) = mnist.load_data() #이 데이터의 구성이 train/test로 나뉘어져 있다. \n",
    "\n",
    "#Normalization\n",
    "X_train, x_test = X_train/255.0, X_test/255.0 #0~255로 표현이 되어 있으니 0~1로 바꿔줄 수 있다. \n",
    "\n",
    "#(num_sample, height, weight)-> (num_sample, height, weight, channel in)추가\n",
    "X_train = X_train[..., tf.newaxis].astype(np.float32)#casting도 잊지말고 해줍니다. \n",
    "X_test = X_test[..., tf.newaxis].astype(np.float32)\n",
    "\n",
    "#dataset 만둘어주기\n",
    "train_ds = tf.data.Dataset.from_tensor_slices((X_train, y_train)).shuffle(10000).batch(32) #tf.data.Dataset.from_tensor_slices() 이 함수를 이용하면 numpy나 tensor로부터 dataset을 구축할 수 있습니다. \n",
    "test_ds = tf.data.Dataset.from_tensor_slices((X_test, y_test)).batch(32)#test는 shuffle이 필요없습니다. \n"
   ]
  },
  {
   "cell_type": "code",
   "execution_count": 10,
   "metadata": {},
   "outputs": [],
   "source": [
    "#6. Define the training environment\n",
    "\n",
    "#create model\n",
    "model = DenseNet()\n",
    "\n",
    "#Define loss and optimizer\n",
    "loss_object = tf.keras.losses.SparseCategoricalCrossentropy()\n",
    "optimizer = tf.keras.optimizers.Adam()\n",
    "\n",
    "#Define performance metrics\n",
    "train_loss = tf.keras.metrics.Mean(name = 'train_loss')\n",
    "train_accuracy = tf.keras.metrics.SparseCategoricalAccuracy(name = 'train_accuracy')\n",
    "\n",
    "test_loss = tf.keras.metrics.Mean(name = 'test_loss')\n",
    "test_accuracy = tf.keras.metrics.SparseCategoricalAccuracy(name = 'test_accuracy')"
   ]
  },
  {
   "cell_type": "code",
   "execution_count": 11,
   "metadata": {},
   "outputs": [
    {
     "name": "stdout",
     "output_type": "stream",
     "text": [
      "Epoch 1, loss: 0.11384554952383041, Accuracy: 96.5433349609375, Test Loss: 12.765666007995605, Test Accuracy: 40.349998474121094\n",
      "Epoch 2, loss: 0.08409809321165085, Accuracy: 97.47333526611328, Test Loss: 8.520444869995117, Test Accuracy: 57.89500045776367\n",
      "Epoch 3, loss: 0.07076261937618256, Accuracy: 97.88945007324219, Test Loss: 6.668560028076172, Test Accuracy: 67.47000122070312\n",
      "Epoch 4, loss: 0.062342531979084015, Accuracy: 98.14166259765625, Test Loss: 6.234569072723389, Test Accuracy: 71.66999816894531\n",
      "Epoch 5, loss: 0.05632811039686203, Accuracy: 98.3280029296875, Test Loss: 6.181604862213135, Test Accuracy: 74.343994140625\n",
      "Epoch 6, loss: 0.051981326192617416, Accuracy: 98.459716796875, Test Loss: 7.289957046508789, Test Accuracy: 74.95832824707031\n",
      "Epoch 7, loss: 0.048148348927497864, Accuracy: 98.57833099365234, Test Loss: 7.226922988891602, Test Accuracy: 76.86571502685547\n",
      "Epoch 8, loss: 0.04538578540086746, Accuracy: 98.66625213623047, Test Loss: 7.134157180786133, Test Accuracy: 78.3550033569336\n",
      "Epoch 9, loss: 0.04280507192015648, Accuracy: 98.74703979492188, Test Loss: 7.369239807128906, Test Accuracy: 79.4366683959961\n",
      "Epoch 10, loss: 0.04068348929286003, Accuracy: 98.81282806396484, Test Loss: 7.460616588592529, Test Accuracy: 80.27300262451172\n"
     ]
    }
   ],
   "source": [
    "# 7. Training\n",
    "\n",
    "for epoch in range(Epochs):\n",
    "    for images, labels in train_ds:\n",
    "        train_step(model, images, labels, loss_object, optimizer, train_loss, train_accuracy)\n",
    "        \n",
    "    for test_images, test_labels in test_ds:\n",
    "        test_step(model, test_images, test_labels, loss_object, test_loss, test_accuracy)\n",
    "        \n",
    "    template = 'Epoch {}, loss: {}, Accuracy: {}, Test Loss: {}, Test Accuracy: {}'\n",
    "    print(template.format(epoch+1, \n",
    "                         train_loss.result(), #result() — 누적된 측정 결과를 얻습니다.\n",
    "                         train_accuracy.result()*100, \n",
    "                         test_loss.result(), \n",
    "                         test_accuracy.result()*100))"
   ]
  },
  {
   "cell_type": "code",
   "execution_count": 12,
   "metadata": {},
   "outputs": [
    {
     "data": {
      "text/html": [
       "<style>.container {width:90% !important;}</style>"
      ],
      "text/plain": [
       "<IPython.core.display.HTML object>"
      ]
     },
     "metadata": {},
     "output_type": "display_data"
    }
   ],
   "source": [
    "from IPython.core.display import display, HTML\n",
    "display(HTML(\"<style>.container {width:90% !important;}</style>\"))"
   ]
  },
  {
   "cell_type": "code",
   "execution_count": null,
   "metadata": {},
   "outputs": [],
   "source": []
  }
 ],
 "metadata": {
  "kernelspec": {
   "display_name": "Python 3",
   "language": "python",
   "name": "python3"
  },
  "language_info": {
   "codemirror_mode": {
    "name": "ipython",
    "version": 3
   },
   "file_extension": ".py",
   "mimetype": "text/x-python",
   "name": "python",
   "nbconvert_exporter": "python",
   "pygments_lexer": "ipython3",
   "version": "3.7.6"
  }
 },
 "nbformat": 4,
 "nbformat_minor": 2
}
