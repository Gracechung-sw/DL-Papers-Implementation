{
 "cells": [
  {
   "cell_type": "markdown",
   "metadata": {},
   "source": [
    "\n",
    "# VGG Net Implementation"
   ]
  },
  {
   "cell_type": "code",
   "execution_count": 1,
   "metadata": {},
   "outputs": [],
   "source": [
    "#0. calling module\n",
    "import tensorflow as tf\n",
    "import numpy as np"
   ]
  },
  {
   "cell_type": "code",
   "execution_count": 2,
   "metadata": {},
   "outputs": [],
   "source": [
    "#1. parameter setting\n",
    "batch_size = 256 #논문에서 나온 batch_size = 256\n",
    "momentum = 0.9 #논문에서 나온 momentum = 0.9\n",
    "dropout_ratio = 0.5 #논문에서 나온 dropout_ratio = 0.5\n",
    "weight_decay = 0.0005 #논문에서 나온 L2 penalty multiplier set to 0.0005\n",
    "EPOCHS = 5 #EPOCHS = 74 # in total, the learning rate was decreased 3 times, and the learing was stopped after 370K iteration(74 epochs)"
   ]
  },
  {
   "cell_type": "code",
   "execution_count": 3,
   "metadata": {},
   "outputs": [],
   "source": [
    "from tensorflow.keras.regularizers import l2"
   ]
  },
  {
   "cell_type": "code",
   "execution_count": 4,
   "metadata": {},
   "outputs": [],
   "source": [
    "#2. build model\n",
    "from tensorflow.keras.layers import Input, Conv2D, MaxPool2D, Dense, Flatten, Dropout\n",
    "from tensorflow.keras.regularizers import l2\n",
    "from tensorflow.keras.models import Sequential\n",
    "from tensorflow.keras.models import Model\n",
    "\n",
    "def VGGNet(input_shape, num_classes):\n",
    "    input = Input(input_shape) #input_shape will be (224x224x3)\n",
    "    \n",
    "    output = Conv2D(64, (3, 3), strides = 4, padding = 'same', activation = 'relu')(input) #1. Conv3-64\n",
    "    output = Conv2D(64, (3, 3), strides = 1, padding = 'same', activation = 'relu')(output)#2. Conv3-64\n",
    "    output = MaxPool2D(pool_size = (2, 2), strides = 2, padding = 'same')(output)#3. maxpool\n",
    "    \n",
    "    output = Conv2D(128, (3, 3), strides = 1, padding = 'same', activation = 'relu')(output)#4. Conv3-128\n",
    "    output = Conv2D(128, (3, 3), strides = 1, padding = 'same', activation = 'relu')(output)#5. Conv3-128\n",
    "    output = MaxPool2D(pool_size=(2, 2), strides=2, padding = 'same')(output)#6. maxpool\n",
    "    \n",
    "    output = Conv2D(256, (3, 3), strides = 1, activation = 'relu', padding = 'same')(output)#7. Conv3-256\n",
    "    output = Conv2D(256, (3, 3), strides = 1, activation = 'relu', padding = 'same')(output)#8. Conv3-256\n",
    "    output = Conv2D(256, (3, 3), strides = 1, activation = 'relu', padding = 'same')(output)#9. Conv3-256\n",
    "    output = Conv2D(256, (3, 3), strides = 1, activation = 'relu', padding = 'same')(output)#10. Conv3-256\n",
    "    output = MaxPool2D(pool_size=(2, 2), strides=2, padding = 'same')(output)#11. maxpool\n",
    "    \n",
    "    output = Conv2D(512, (3, 3), strides = 1, padding = 'same', activation = 'relu')(output)#12. Conv3-512\n",
    "    output = Conv2D(512, (3, 3), strides = 1, padding = 'same', activation = 'relu')(output)#13. Conv3-512\n",
    "    output = Conv2D(512, (3, 3), strides = 1, padding = 'same', activation = 'relu')(output)#14. Conv3-512\n",
    "    output = MaxPool2D(pool_size = (2, 2), strides=2, padding = 'same')(output) #16. maxpool\n",
    "    \n",
    "    output = Conv2D(512, (3, 3), strides = 1, padding = 'same', activation = 'relu')(output)#17. Conv3-512\n",
    "    output = Conv2D(512, (3, 3), strides = 1, padding = 'same', activation = 'relu')(output)#18. Conv3-512\n",
    "    output = Conv2D(512, (3, 3), strides = 1, padding = 'same', activation = 'relu')(output)#19. Conv3-512\n",
    "    output = Conv2D(512, (3, 3), strides = 1, padding = 'same', activation = 'relu')(output)#20. Conv3-512\n",
    "    output = MaxPool2D(pool_size = (2, 2), strides=2, padding = 'same')(output)#21. maxpool\n",
    "    \n",
    "    \n",
    "    output = Flatten()(output)#22. Flatten() 4096\n",
    "    \n",
    "    output = Dropout(dropout_ratio)(output) #23. dropout regularization for the first two fully connected layers (dropout ratio: 0.5\n",
    "    output = Dense(4096, activation = 'relu', kernel_regularizer = l2(weight_decay))(output)#24. Dense()4096 relu regularised by weight decay(L2 regularization: 5x10-4)\n",
    "    \n",
    "    output = Dropout(dropout_ratio)(output)#25. dropout regularization for the first two fully connected layers (dropout ratio: 0.5\n",
    "    output = Dense(4096, activation = 'relu', kernel_regularizer = l2(weight_decay))(output)#26. Dense() 4096 relu \n",
    "\n",
    "    result = Dense(num_classes, activation = 'softmax')(output)#27. Dense() 10 softmax\n",
    "    \n",
    "    model = Model(input, result)\n",
    "    return model"
   ]
  },
  {
   "cell_type": "code",
   "execution_count": 5,
   "metadata": {},
   "outputs": [
    {
     "name": "stdout",
     "output_type": "stream",
     "text": [
      "Model: \"model\"\n",
      "_________________________________________________________________\n",
      "Layer (type)                 Output Shape              Param #   \n",
      "=================================================================\n",
      "input_1 (InputLayer)         [(None, 224, 224, 3)]     0         \n",
      "_________________________________________________________________\n",
      "conv2d (Conv2D)              (None, 56, 56, 64)        1792      \n",
      "_________________________________________________________________\n",
      "conv2d_1 (Conv2D)            (None, 56, 56, 64)        36928     \n",
      "_________________________________________________________________\n",
      "max_pooling2d (MaxPooling2D) (None, 28, 28, 64)        0         \n",
      "_________________________________________________________________\n",
      "conv2d_2 (Conv2D)            (None, 28, 28, 128)       73856     \n",
      "_________________________________________________________________\n",
      "conv2d_3 (Conv2D)            (None, 28, 28, 128)       147584    \n",
      "_________________________________________________________________\n",
      "max_pooling2d_1 (MaxPooling2 (None, 14, 14, 128)       0         \n",
      "_________________________________________________________________\n",
      "conv2d_4 (Conv2D)            (None, 14, 14, 256)       295168    \n",
      "_________________________________________________________________\n",
      "conv2d_5 (Conv2D)            (None, 14, 14, 256)       590080    \n",
      "_________________________________________________________________\n",
      "conv2d_6 (Conv2D)            (None, 14, 14, 256)       590080    \n",
      "_________________________________________________________________\n",
      "conv2d_7 (Conv2D)            (None, 14, 14, 256)       590080    \n",
      "_________________________________________________________________\n",
      "max_pooling2d_2 (MaxPooling2 (None, 7, 7, 256)         0         \n",
      "_________________________________________________________________\n",
      "conv2d_8 (Conv2D)            (None, 7, 7, 512)         1180160   \n",
      "_________________________________________________________________\n",
      "conv2d_9 (Conv2D)            (None, 7, 7, 512)         2359808   \n",
      "_________________________________________________________________\n",
      "conv2d_10 (Conv2D)           (None, 7, 7, 512)         2359808   \n",
      "_________________________________________________________________\n",
      "max_pooling2d_3 (MaxPooling2 (None, 4, 4, 512)         0         \n",
      "_________________________________________________________________\n",
      "conv2d_11 (Conv2D)           (None, 4, 4, 512)         2359808   \n",
      "_________________________________________________________________\n",
      "conv2d_12 (Conv2D)           (None, 4, 4, 512)         2359808   \n",
      "_________________________________________________________________\n",
      "conv2d_13 (Conv2D)           (None, 4, 4, 512)         2359808   \n",
      "_________________________________________________________________\n",
      "conv2d_14 (Conv2D)           (None, 4, 4, 512)         2359808   \n",
      "_________________________________________________________________\n",
      "max_pooling2d_4 (MaxPooling2 (None, 2, 2, 512)         0         \n",
      "_________________________________________________________________\n",
      "flatten (Flatten)            (None, 2048)              0         \n",
      "_________________________________________________________________\n",
      "dropout (Dropout)            (None, 2048)              0         \n",
      "_________________________________________________________________\n",
      "dense (Dense)                (None, 4096)              8392704   \n",
      "_________________________________________________________________\n",
      "dropout_1 (Dropout)          (None, 4096)              0         \n",
      "_________________________________________________________________\n",
      "dense_1 (Dense)              (None, 4096)              16781312  \n",
      "_________________________________________________________________\n",
      "dense_2 (Dense)              (None, 1000)              4097000   \n",
      "=================================================================\n",
      "Total params: 46,935,592\n",
      "Trainable params: 46,935,592\n",
      "Non-trainable params: 0\n",
      "_________________________________________________________________\n"
     ]
    }
   ],
   "source": [
    "input_shape = (224, 224, 3)\n",
    "num_classes = 1000\n",
    "\n",
    "model = VGGNet(input_shape, num_classes)\n",
    "\n",
    "model.summary()"
   ]
  },
  {
   "cell_type": "markdown",
   "metadata": {},
   "source": [
    "#### reference\n",
    "\n",
    "https://libertegrace.tistory.com/entry/VGGNet-Very-Deep-Convolution-Networks-For-Large-Scale-Image-Recognition\n",
    "https://medium.com/@robertjohn_15390/regularization-in-tensorflow-using-keras-api-48aba746ae21"
   ]
  },
  {
   "cell_type": "code",
   "execution_count": 6,
   "metadata": {},
   "outputs": [
    {
     "data": {
      "text/html": [
       "<style>.container {width:90% !important;}</style>"
      ],
      "text/plain": [
       "<IPython.core.display.HTML object>"
      ]
     },
     "metadata": {},
     "output_type": "display_data"
    }
   ],
   "source": [
    "from IPython.core.display import display, HTML\n",
    "display(HTML(\"<style>.container {width:90% !important;}</style>\"))"
   ]
  },
  {
   "cell_type": "code",
   "execution_count": null,
   "metadata": {},
   "outputs": [],
   "source": []
  }
 ],
 "metadata": {
  "kernelspec": {
   "display_name": "Python 3",
   "language": "python",
   "name": "python3"
  },
  "language_info": {
   "codemirror_mode": {
    "name": "ipython",
    "version": 3
   },
   "file_extension": ".py",
   "mimetype": "text/x-python",
   "name": "python",
   "nbconvert_exporter": "python",
   "pygments_lexer": "ipython3",
   "version": "3.7.6"
  }
 },
 "nbformat": 4,
 "nbformat_minor": 2
}
