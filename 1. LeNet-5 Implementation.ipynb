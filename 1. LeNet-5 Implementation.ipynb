{
 "cells": [
  {
   "cell_type": "markdown",
   "metadata": {},
   "source": [
    "# 1. LeNet"
   ]
  },
  {
   "cell_type": "markdown",
   "metadata": {},
   "source": [
    "## 0. module calling"
   ]
  },
  {
   "cell_type": "code",
   "execution_count": 1,
   "metadata": {},
   "outputs": [],
   "source": [
    "import tensorflow as tf\n",
    "from tensorflow import keras\n",
    "\n",
    "from tensorflow.keras.utils import to_categorical\n",
    "from tensorflow.keras import backend #keras.backend : \n",
    "from tensorflow.keras.models import Sequential #keras.models.Sequential:\n",
    "from tensorflow.keras.layers import Conv2D, AveragePooling2D,Flatten,Dense\n",
    "from tensorflow.keras.optimizers import SGD, RMSprop, Adam \n",
    "from tensorflow.keras.utils import to_categorical\n",
    "#SGD:\n",
    "#RMSprop:\n",
    "#Adam:\n",
    "\n",
    "import numpy as np\n",
    "import pandas as pd\n",
    "import matplotlib.pyplot as plt"
   ]
  },
  {
   "cell_type": "markdown",
   "metadata": {},
   "source": [
    "## 1. data processing"
   ]
  },
  {
   "cell_type": "code",
   "execution_count": 2,
   "metadata": {},
   "outputs": [
    {
     "data": {
      "text/plain": [
       "(60000, 28, 28)"
      ]
     },
     "execution_count": 2,
     "metadata": {},
     "output_type": "execute_result"
    },
    {
     "data": {
      "image/png": "[encoded data removed]",
      "text/plain": [
       "<Figure size 432x288 with 1 Axes>"
      ]
     },
     "metadata": {
      "needs_background": "light"
     },
     "output_type": "display_data"
    }
   ],
   "source": [
    "#dataset: MNIST\n",
    "from tensorflow.keras.datasets import mnist\n",
    "\n",
    "#data load\n",
    "(x_train, y_train), (x_test, y_test) = mnist.load_data()\n",
    "\n",
    "#data confirm\n",
    "plt.imshow(x_train[-1], cmap = 'Greys') #해 보니 color인데 숫자 이미지 판단에 흑백/컬러는 중요한게 아니니 'Greys'로 바꾼다.\n",
    "x_train.shape #(total x_train number, height, width)\n"
   ]
  },
  {
   "cell_type": "code",
   "execution_count": 3,
   "metadata": {},
   "outputs": [],
   "source": [
    "#흑백 영상은 각 픽셀이 0~1 사이의 실수로 된 2-D signal로 표현 할 수 있다. \n",
    "#이차원 신호와 흑백 이미지: 0~255 사이의 값을 0~1로 normalize\n",
    "x_train, x_test = x_train / 255, x_test / 255\n",
    "\n",
    "x_train = x_train.astype('float32')\n",
    "x_test = x_test.astype('float32')"
   ]
  },
  {
   "cell_type": "code",
   "execution_count": 4,
   "metadata": {},
   "outputs": [],
   "source": [
    "# one hot encoding for label classes\n",
    "y_train = to_categorical(y_train, 10)\n",
    "y_test = to_categorical(y_test, 10)"
   ]
  },
  {
   "cell_type": "code",
   "execution_count": 5,
   "metadata": {},
   "outputs": [
    {
     "name": "stdout",
     "output_type": "stream",
     "text": [
      "(60000, 28, 28, 1)\n",
      "(28, 28, 1)\n"
     ]
    }
   ],
   "source": [
    "#we need channel in, so add one more space\n",
    "x_train = x_train[..., np.newaxis]\n",
    "x_test = x_test[..., np.newaxis]\n",
    "print(x_train.shape)#(total x_train number, height, width, channel in)\n",
    "print(x_train[0].shape)"
   ]
  },
  {
   "cell_type": "markdown",
   "metadata": {},
   "source": [
    "## 2. Build LeNet-5 model\n",
    "https://bskyvision.com/418"
   ]
  },
  {
   "cell_type": "code",
   "execution_count": 6,
   "metadata": {},
   "outputs": [],
   "source": [
    "def MyModel():\n",
    "    return Sequential([Conv2D(6, kernel_size=(5, 5), strides=(1, 1), activation='tanh', input_shape=(28,28,1), padding='same'),#Convolutional layers, input:32*32*1, filter_size:5x5, filters:6개, output:28*28*6\n",
    "                        AveragePooling2D(pool_size=(2, 2), strides=(1, 1), padding='valid'), #Sub-sampling layers, receptive field:2x2, averagepooling, output:14*14*6\n",
    "                        Conv2D(16, kernel_size=(5, 5), strides=(1, 1), activation= 'tanh', padding='valid'),#Convolution layers, filter_size:5x5, filters:16개, output:10*10*16\n",
    "                        AveragePooling2D(pool_size=(2, 2), strides=(2, 2), padding= 'valid'), #Sub-sampling layers, receptive field:2x2, averagepooling, output:5*5*16\n",
    "                        Conv2D(120, kernel_size=(5, 5), strides=(1, 1), activation= 'tanh', padding= 'valid'),\n",
    "                       \n",
    "                        Flatten(), #fully connection, 120\n",
    "                        #Dense(120, activation = 'relu'),#120\n",
    "                        Dense(84, activation = 'tanh'), #120 -> 84\n",
    "                        Dense(10, activation = 'softmax') #84 -> 10\n",
    "    ])"
   ]
  },
  {
   "cell_type": "code",
   "execution_count": 10,
   "metadata": {},
   "outputs": [],
   "source": [
    "model = MyModel()\n",
    "model.compile(optimizer = 'SGD', \n",
    "             loss = 'mean_squared_error', \n",
    "             metrics = ['accuracy'])\n"
   ]
  },
  {
   "cell_type": "code",
   "execution_count": null,
   "metadata": {},
   "outputs": [
    {
     "name": "stdout",
     "output_type": "stream",
     "text": [
      "Train on 60000 samples, validate on 10000 samples\n",
      "Epoch 1/10\n"
     ]
    }
   ],
   "source": [
    "model.fit(x = x_train, y = y_train, epochs = 10, batch_size = 128, validation_data = (x_test, y_test),verbose =1)"
   ]
  },
  {
   "cell_type": "code",
   "execution_count": 1,
   "metadata": {},
   "outputs": [
    {
     "data": {
      "text/html": [
       "<style>.container {width:90% !important;}</style>"
      ],
      "text/plain": [
       "<IPython.core.display.HTML object>"
      ]
     },
     "metadata": {},
     "output_type": "display_data"
    }
   ],
   "source": [
    "from IPython.core.display import display, HTML\n",
    "display(HTML(\"<style>.container {width:90% !important;}</style>\"))\n"
   ]
  },
  {
   "cell_type": "code",
   "execution_count": null,
   "metadata": {},
   "outputs": [],
   "source": []
  }
 ],
 "metadata": {
  "kernelspec": {
   "display_name": "Python 3",
   "language": "python",
   "name": "python3"
  },
  "language_info": {
   "codemirror_mode": {
    "name": "ipython",
    "version": 3
   },
   "file_extension": ".py",
   "mimetype": "text/x-python",
   "name": "python",
   "nbconvert_exporter": "python",
   "pygments_lexer": "ipython3",
   "version": "3.6.9"
  }
 },
 "nbformat": 4,
 "nbformat_minor": 2
}
